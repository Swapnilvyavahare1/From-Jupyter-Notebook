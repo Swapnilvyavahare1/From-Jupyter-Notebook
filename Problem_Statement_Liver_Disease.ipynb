{
 "cells": [
  {
   "cell_type": "markdown",
   "id": "ca1f62f2",
   "metadata": {},
   "source": [
    "# Problem Statement \n",
    "Patients with Liver disease have been continuously increasing because of excessive \n",
    "consumption of alcohol, inhale of harmful gases, intake of contaminated food, \n",
    "pickles and drugs. This dataset was used to evaluate prediction algorithms in an \n",
    "effort to reduce burden on doctors.\n",
    "\n",
    "\n",
    "# Details\n",
    "\n",
    "This data set contains 583 liver patient records and 167 non liver patient records \n",
    "collected from North East of Andhra Pradesh, India. The \"Dataset\" column is a class \n",
    "label used to divide groups into liver patient (liver disease) or not (no disease). This \n",
    "data set contains 441 male patient records and 142 female patient records.\n",
    "Any patient whose age exceeded 89 is listed as being of age \"90\".\n",
    "\n",
    "#### Columns:\n",
    "\n",
    "• Age of the patient\n",
    "• Gender of the patient\n",
    "• Total Bilirubin\n",
    "• Direct Bilirubin\n",
    "• Alkaline Phosphotase\n",
    "• Alamine Aminotransferase\n",
    "• Aspartate Aminotransferase\n",
    "• Total Protiens\n",
    "• Albumin\n",
    "• Albumin and Globulin Ratio\n",
    "• Dataset: field used to split the data into two sets (patient with liver disease, or \n",
    "no disease)\n",
    "\n",
    "\n",
    "# Objective:\n",
    "\n",
    "The primary goal is to visualize the data and establish trends or important \n",
    "characteristics, if any. The next important objective is to create a pycaret model that \n",
    "can predict the class of the patient by the virtue of its input.\n",
    "\n"
   ]
  },
  {
   "cell_type": "code",
   "execution_count": null,
   "id": "99a5b903",
   "metadata": {},
   "outputs": [],
   "source": []
  }
 ],
 "metadata": {
  "kernelspec": {
   "display_name": "Python 3 (ipykernel)",
   "language": "python",
   "name": "python3"
  },
  "language_info": {
   "codemirror_mode": {
    "name": "ipython",
    "version": 3
   },
   "file_extension": ".py",
   "mimetype": "text/x-python",
   "name": "python",
   "nbconvert_exporter": "python",
   "pygments_lexer": "ipython3",
   "version": "3.9.12"
  }
 },
 "nbformat": 4,
 "nbformat_minor": 5
}
